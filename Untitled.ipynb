{
 "cells": [
  {
   "cell_type": "code",
   "execution_count": 1,
   "metadata": {},
   "outputs": [],
   "source": [
    "import os\n",
    "from pathlib import Path\n",
    "import pandas as pd\n",
    "import numpy as np"
   ]
  },
  {
   "cell_type": "code",
   "execution_count": 2,
   "metadata": {},
   "outputs": [],
   "source": [
    "folds = pd.read_csv('folds.csv')\n",
    "test  = pd.read_csv('test.csv')\n",
    "columns = pd.read_pickle('columns.pkl')"
   ]
  },
  {
   "cell_type": "code",
   "execution_count": 3,
   "metadata": {},
   "outputs": [],
   "source": [
    "features = []\n",
    "features = columns['features']\n",
    "targets = []\n",
    "targets = columns['targets']"
   ]
  },
  {
   "cell_type": "code",
   "execution_count": 4,
   "metadata": {},
   "outputs": [
    {
     "data": {
      "text/plain": [
       "(1096, 206)"
      ]
     },
     "execution_count": 4,
     "metadata": {},
     "output_type": "execute_result"
    }
   ],
   "source": [
    "len(features), len(targets)"
   ]
  },
  {
   "cell_type": "code",
   "execution_count": null,
   "metadata": {},
   "outputs": [],
   "source": []
  },
  {
   "cell_type": "code",
   "execution_count": 5,
   "metadata": {},
   "outputs": [],
   "source": [
    "params = {'learning_rate': 0.3, \n",
    "          'depth': 6, \n",
    "          'l2_leaf_reg': 3, \n",
    "          'loss_function': 'MultiRMSE', \n",
    "          'eval_metric': 'MultiRMSE', \n",
    "          'task_type': 'CPU', \n",
    "          'iterations': 150,\n",
    "          'od_type': 'Iter', \n",
    "          'boosting_type': 'Plain', \n",
    "          'bootstrap_type': 'Bernoulli', \n",
    "          'allow_const_label': True,\n",
    "          'random_state' : 42\n",
    "          }"
   ]
  },
  {
   "cell_type": "code",
   "execution_count": 10,
   "metadata": {},
   "outputs": [],
   "source": [
    "from catboost import CatBoost, CatBoostClassifier, CatBoostRegressor, Pool"
   ]
  },
  {
   "cell_type": "code",
   "execution_count": 11,
   "metadata": {},
   "outputs": [],
   "source": [
    "def train_all(model):\n",
    "    \"\"\"\n",
    "    Train the 7 different models. One for each fold.\n",
    "    \"\"\"\n",
    "    y_true = folds[targets].values\n",
    "    oof = np.zeros_like(y_true)\n",
    "\n",
    "    for fold_nb in range(7):\n",
    "        print(\"FOLDS: \", fold_nb + 1)\n",
    "        print('*' * 60)\n",
    "        valid = folds.loc[folds['kfold'] == fold_nb]\n",
    "        train = folds.loc[folds['kfold'] != fold_nb]\n",
    "        valid_idx = valid.index\n",
    "\n",
    "        X_train, y_train = train[features].values, train[targets].values\n",
    "        X_val  , y_val   = valid[features].values, valid[targets].values\n",
    "        \n",
    "        cat_tr = Pool(X_train, label = y_train)\n",
    "        cat_val = Pool(X_val, label = y_val)\n",
    "\n",
    "        model.fit(cat_tr, eval_set = cat_val, early_stopping_rounds = 5, \n",
    "                              use_best_model = True, verbose = 10)\n",
    "        print('-' * 60)\n",
    "\n",
    "        oof[valid_idx] += model.predict(X_val)  #oof - out of fold\n",
    "    \n",
    "    return y_true, oof # y_true, y_pred"
   ]
  },
  {
   "cell_type": "code",
   "execution_count": 12,
   "metadata": {},
   "outputs": [],
   "source": [
    "\n",
    "catboost_model =  CatBoostRegressor(**params)\n"
   ]
  },
  {
   "cell_type": "code",
   "execution_count": null,
   "metadata": {},
   "outputs": [
    {
     "name": "stdout",
     "output_type": "stream",
     "text": [
      "FOLDS:  1\n",
      "************************************************************\n",
      "0:\tlearn: 0.8545617\ttest: 0.8550838\tbest: 0.8550838 (0)\ttotal: 1m 49s\tremaining: 4h 31m 30s\n"
     ]
    }
   ],
   "source": [
    "y_true,y_pred = train_all(catboost_model)"
   ]
  },
  {
   "cell_type": "code",
   "execution_count": null,
   "metadata": {},
   "outputs": [],
   "source": []
  }
 ],
 "metadata": {
  "kernelspec": {
   "display_name": "Python 3",
   "language": "python",
   "name": "python3"
  },
  "language_info": {
   "codemirror_mode": {
    "name": "ipython",
    "version": 3
   },
   "file_extension": ".py",
   "mimetype": "text/x-python",
   "name": "python",
   "nbconvert_exporter": "python",
   "pygments_lexer": "ipython3",
   "version": "3.7.5rc1"
  }
 },
 "nbformat": 4,
 "nbformat_minor": 2
}
